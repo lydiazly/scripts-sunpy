{
 "cells": [
  {
   "cell_type": "markdown",
   "metadata": {},
   "source": [
    "# Example: downloading data from JSOC"
   ]
  },
  {
   "cell_type": "markdown",
   "metadata": {},
   "source": [
    "Reference http://docs.sunpy.org/en/stable/guide/acquiring_data/jsoc.html"
   ]
  },
  {
   "cell_type": "code",
   "execution_count": 1,
   "metadata": {},
   "outputs": [],
   "source": [
    "%load_ext autoreload\n",
    "%autoreload 2\n",
    "\n",
    "import astropy.units as u\n",
    "\n",
    "from sunpy.net import Fido, attrs\n",
    "\n",
    "# Suppress warnings of pandas, astropy\n",
    "import warnings\n",
    "warnings.simplefilter(\"ignore\", category=FutureWarning)\n",
    "from astropy.utils.exceptions import AstropyDeprecationWarning\n",
    "warnings.simplefilter(\"ignore\", category=AstropyDeprecationWarning)"
   ]
  },
  {
   "cell_type": "markdown",
   "metadata": {},
   "source": [
    "To be clear, here we use\n",
    "```python\n",
    "from sunpy.net import Fido, attrs\n",
    "```\n",
    "instead of examples in http://docs.sunpy.org/en/stable/guide/acquiring_data/jsoc.html\n",
    "```python\n",
    "from sunpy.net import Fido, attrs as a\n",
    "```\n"
   ]
  },
  {
   "cell_type": "markdown",
   "metadata": {},
   "source": [
    "## Getting information"
   ]
  },
  {
   "cell_type": "markdown",
   "metadata": {},
   "source": [
    "`drms` - Python module for accessing HMI, AIA and MDI data<br>\n",
    "- https://github.com/kbg/drms\n",
    "- http://drms.readthedocs.io/en/stable/tutorial.html"
   ]
  },
  {
   "cell_type": "markdown",
   "metadata": {},
   "source": [
    "### Series"
   ]
  },
  {
   "cell_type": "markdown",
   "metadata": {},
   "source": [
    "<img style='float: left;' src='fig/hmi01.png'/>"
   ]
  },
  {
   "cell_type": "markdown",
   "metadata": {},
   "source": [
    "Import the `drms` module and create an instance of the `drms.Client` class:"
   ]
  },
  {
   "cell_type": "code",
   "execution_count": 2,
   "metadata": {},
   "outputs": [],
   "source": [
    "import drms\n",
    "c = drms.Client()"
   ]
  },
  {
   "cell_type": "markdown",
   "metadata": {},
   "source": [
    "List available `Series`:"
   ]
  },
  {
   "cell_type": "code",
   "execution_count": 3,
   "metadata": {
    "scrolled": true
   },
   "outputs": [
    {
     "data": {
      "text/plain": [
       "['aia.flatfield',\n",
       " 'aia.lev1',\n",
       " 'aia.lev1_euv_12s',\n",
       " 'aia.lev1_uv_24s',\n",
       " 'aia.lev1_vis_1h',\n",
       " 'aia.master_pointing3h',\n",
       " 'aia.response',\n",
       " 'aia.temperature_summary_300s']"
      ]
     },
     "execution_count": 3,
     "metadata": {},
     "output_type": "execute_result"
    }
   ],
   "source": [
    "c.series(r'aia\\..*')  # regex, case-insensitive"
   ]
  },
  {
   "cell_type": "code",
   "execution_count": 4,
   "metadata": {
    "scrolled": true
   },
   "outputs": [
    {
     "data": {
      "text/plain": [
       "['hmi.B_720s',\n",
       " 'hmi.B_720s_dcon',\n",
       " 'hmi.B_720s_dconS',\n",
       " 'hmi.Bharp_720s',\n",
       " 'hmi.Bharp_720s_nrt',\n",
       " 'hmi.b_135s',\n",
       " 'hmi.b_720s_e15w1332_cea',\n",
       " 'hmi.b_720s_e15w1332_cutout',\n",
       " 'hmi.b_synoptic',\n",
       " 'hmi.b_synoptic_small',\n",
       " 'hmi.bmap_lowres_latlon_720s']"
      ]
     },
     "execution_count": 4,
     "metadata": {},
     "output_type": "execute_result"
    }
   ],
   "source": [
    "c.series(r'hmi\\.b.*')  # regex, case-insensitive"
   ]
  },
  {
   "cell_type": "markdown",
   "metadata": {},
   "source": [
    "### PrimeKeys"
   ]
  },
  {
   "cell_type": "markdown",
   "metadata": {},
   "source": [
    "Find out the `PrimeKeys` supported in any `Series`:"
   ]
  },
  {
   "cell_type": "code",
   "execution_count": 5,
   "metadata": {},
   "outputs": [
    {
     "data": {
      "text/plain": [
       "['T_REC', 'WAVELNTH']"
      ]
     },
     "execution_count": 5,
     "metadata": {},
     "output_type": "execute_result"
    }
   ],
   "source": [
    "c.pkeys('aia.lev1_euv_12s')  # case-insensitive"
   ]
  },
  {
   "cell_type": "code",
   "execution_count": 6,
   "metadata": {},
   "outputs": [
    {
     "data": {
      "text/plain": [
       "['T_REC']"
      ]
     },
     "execution_count": 6,
     "metadata": {},
     "output_type": "execute_result"
    }
   ],
   "source": [
    "c.pkeys('hmi.B_720s')  # case-insensitive"
   ]
  },
  {
   "cell_type": "markdown",
   "metadata": {},
   "source": [
    "### Segments"
   ]
  },
  {
   "cell_type": "markdown",
   "metadata": {},
   "source": [
    "Find out the `Segments` supported in any `Series`:"
   ]
  },
  {
   "cell_type": "markdown",
   "metadata": {},
   "source": [
    "* 'aia.lev1_euv_12s'"
   ]
  },
  {
   "cell_type": "code",
   "execution_count": 7,
   "metadata": {},
   "outputs": [
    {
     "data": {
      "text/html": [
       "<div>\n",
       "<style scoped>\n",
       "    .dataframe tbody tr th:only-of-type {\n",
       "        vertical-align: middle;\n",
       "    }\n",
       "\n",
       "    .dataframe tbody tr th {\n",
       "        vertical-align: top;\n",
       "    }\n",
       "\n",
       "    .dataframe thead th {\n",
       "        text-align: right;\n",
       "    }\n",
       "</style>\n",
       "<table border=\"1\" class=\"dataframe\">\n",
       "  <thead>\n",
       "    <tr style=\"text-align: right;\">\n",
       "      <th></th>\n",
       "      <th>type</th>\n",
       "      <th>units</th>\n",
       "      <th>protocol</th>\n",
       "      <th>dims</th>\n",
       "      <th>note</th>\n",
       "    </tr>\n",
       "    <tr>\n",
       "      <th>name</th>\n",
       "      <th></th>\n",
       "      <th></th>\n",
       "      <th></th>\n",
       "      <th></th>\n",
       "      <th></th>\n",
       "    </tr>\n",
       "  </thead>\n",
       "  <tbody>\n",
       "    <tr>\n",
       "      <th>image</th>\n",
       "      <td>int</td>\n",
       "      <td>None</td>\n",
       "      <td>link via lev1</td>\n",
       "      <td>None</td>\n",
       "      <td>AIA level 1 image</td>\n",
       "    </tr>\n",
       "    <tr>\n",
       "      <th>spikes</th>\n",
       "      <td>int</td>\n",
       "      <td>None</td>\n",
       "      <td>link via lev1</td>\n",
       "      <td>None</td>\n",
       "      <td>Cosmic ray information</td>\n",
       "    </tr>\n",
       "  </tbody>\n",
       "</table>\n",
       "</div>"
      ],
      "text/plain": [
       "       type units       protocol  dims                    note\n",
       "name                                                          \n",
       "image   int  None  link via lev1  None       AIA level 1 image\n",
       "spikes  int  None  link via lev1  None  Cosmic ray information"
      ]
     },
     "execution_count": 7,
     "metadata": {},
     "output_type": "execute_result"
    }
   ],
   "source": [
    "si = c.info('aia.lev1_euv_12s')\n",
    "si.segments"
   ]
  },
  {
   "cell_type": "code",
   "execution_count": 8,
   "metadata": {
    "cell_style": "center",
    "scrolled": true
   },
   "outputs": [
    {
     "data": {
      "text/plain": [
       "array(['image', 'spikes'], dtype=object)"
      ]
     },
     "execution_count": 8,
     "metadata": {},
     "output_type": "execute_result"
    }
   ],
   "source": [
    "si.segments.index.values  # To a `ndarray`"
   ]
  },
  {
   "cell_type": "code",
   "execution_count": 9,
   "metadata": {},
   "outputs": [
    {
     "data": {
      "text/plain": [
       "'image'"
      ]
     },
     "execution_count": 9,
     "metadata": {},
     "output_type": "execute_result"
    }
   ],
   "source": [
    "si.segments.index[0]  # Use slice to pick a value"
   ]
  },
  {
   "cell_type": "markdown",
   "metadata": {},
   "source": [
    "* 'hmi.b_720s'"
   ]
  },
  {
   "cell_type": "code",
   "execution_count": 10,
   "metadata": {},
   "outputs": [
    {
     "data": {
      "text/html": [
       "<div>\n",
       "<style scoped>\n",
       "    .dataframe tbody tr th:only-of-type {\n",
       "        vertical-align: middle;\n",
       "    }\n",
       "\n",
       "    .dataframe tbody tr th {\n",
       "        vertical-align: top;\n",
       "    }\n",
       "\n",
       "    .dataframe thead th {\n",
       "        text-align: right;\n",
       "    }\n",
       "</style>\n",
       "<table border=\"1\" class=\"dataframe\">\n",
       "  <thead>\n",
       "    <tr style=\"text-align: right;\">\n",
       "      <th></th>\n",
       "      <th>type</th>\n",
       "      <th>units</th>\n",
       "      <th>protocol</th>\n",
       "      <th>dims</th>\n",
       "      <th>note</th>\n",
       "    </tr>\n",
       "    <tr>\n",
       "      <th>name</th>\n",
       "      <th></th>\n",
       "      <th></th>\n",
       "      <th></th>\n",
       "      <th></th>\n",
       "      <th></th>\n",
       "    </tr>\n",
       "  </thead>\n",
       "  <tbody>\n",
       "    <tr>\n",
       "      <th>inclination</th>\n",
       "      <td>int</td>\n",
       "      <td>None</td>\n",
       "      <td>link via MDATA</td>\n",
       "      <td>None</td>\n",
       "      <td>Inclination</td>\n",
       "    </tr>\n",
       "    <tr>\n",
       "      <th>azimuth</th>\n",
       "      <td>int</td>\n",
       "      <td>None</td>\n",
       "      <td>link via MDATA</td>\n",
       "      <td>None</td>\n",
       "      <td>Azimuth before disambiguation</td>\n",
       "    </tr>\n",
       "    <tr>\n",
       "      <th>disambig</th>\n",
       "      <td>char</td>\n",
       "      <td></td>\n",
       "      <td>fits</td>\n",
       "      <td>4096x4096</td>\n",
       "      <td>Flag for 180 degree change in azimuth</td>\n",
       "    </tr>\n",
       "    <tr>\n",
       "      <th>field</th>\n",
       "      <td>int</td>\n",
       "      <td>None</td>\n",
       "      <td>link via MDATA</td>\n",
       "      <td>None</td>\n",
       "      <td>Field Strength</td>\n",
       "    </tr>\n",
       "  </tbody>\n",
       "</table>\n",
       "</div>"
      ],
      "text/plain": [
       "             type units        protocol       dims  \\\n",
       "name                                                 \n",
       "inclination   int  None  link via MDATA       None   \n",
       "azimuth       int  None  link via MDATA       None   \n",
       "disambig     char                  fits  4096x4096   \n",
       "field         int  None  link via MDATA       None   \n",
       "\n",
       "                                              note  \n",
       "name                                                \n",
       "inclination                            Inclination  \n",
       "azimuth              Azimuth before disambiguation  \n",
       "disambig     Flag for 180 degree change in azimuth  \n",
       "field                               Field Strength  "
      ]
     },
     "execution_count": 10,
     "metadata": {},
     "output_type": "execute_result"
    }
   ],
   "source": [
    "si = c.info('hmi.b_720s')\n",
    "si.segments[:4]  # Use slice to pick rows"
   ]
  },
  {
   "cell_type": "markdown",
   "metadata": {},
   "source": [
    "## Basic usage"
   ]
  },
  {
   "cell_type": "markdown",
   "metadata": {},
   "source": [
    "See http://docs.sunpy.org/en/stable/guide/acquiring_data/jsoc.html\n",
    "\n",
    "> There are two ways of downloading JSOC data. \n",
    " - One way is using Sunpy’s unified search interface, known as`Fido`.<br>\n",
    " `Fido` supplies a single, easy and consistent way to to obtain most forms of solar physics data.\n",
    " - An alternative way to fetch data from JSOC is by using the underlying `JSOCClient`.<br>\n",
    " This option can be preferred when the complex searches are to be made, or when you need to separate the staging and downloading steps, which is not supported by `Fido`."
   ]
  },
  {
   "cell_type": "markdown",
   "metadata": {},
   "source": [
    "### Fido"
   ]
  },
  {
   "cell_type": "markdown",
   "metadata": {},
   "source": [
    "#### Searching for data"
   ]
  },
  {
   "cell_type": "code",
   "execution_count": 2,
   "metadata": {
    "scrolled": false
   },
   "outputs": [
    {
     "data": {
      "text/html": [
       "Results from 2 Providers:</br></br>3 Results from the JSOCClient:</br><i>Table length=3</i>\n",
       "<table id=\"table23285989288984\" class=\"table-striped table-bordered table-condensed\">\n",
       "<thead><tr><th>T_REC</th><th>TELESCOP</th><th>INSTRUME</th><th>WAVELNTH</th><th>CAR_ROT</th></tr></thead>\n",
       "<thead><tr><th>str20</th><th>str7</th><th>str5</th><th>int64</th><th>int64</th></tr></thead>\n",
       "<tr><td>2014-01-01T00:00:01Z</td><td>SDO/AIA</td><td>AIA_4</td><td>304</td><td>2145</td></tr>\n",
       "<tr><td>2014-01-01T00:00:13Z</td><td>SDO/AIA</td><td>AIA_4</td><td>304</td><td>2145</td></tr>\n",
       "<tr><td>2014-01-01T00:00:25Z</td><td>SDO/AIA</td><td>AIA_4</td><td>304</td><td>2145</td></tr>\n",
       "</table></br>3 Results from the JSOCClient:</br><i>Table length=3</i>\n",
       "<table id=\"table23285988917200\" class=\"table-striped table-bordered table-condensed\">\n",
       "<thead><tr><th>T_REC</th><th>TELESCOP</th><th>INSTRUME</th><th>WAVELNTH</th><th>CAR_ROT</th></tr></thead>\n",
       "<thead><tr><th>str20</th><th>str7</th><th>str5</th><th>int64</th><th>int64</th></tr></thead>\n",
       "<tr><td>2014-01-01T00:00:01Z</td><td>SDO/AIA</td><td>AIA_3</td><td>171</td><td>2145</td></tr>\n",
       "<tr><td>2014-01-01T00:00:13Z</td><td>SDO/AIA</td><td>AIA_3</td><td>171</td><td>2145</td></tr>\n",
       "<tr><td>2014-01-01T00:00:25Z</td><td>SDO/AIA</td><td>AIA_3</td><td>171</td><td>2145</td></tr>\n",
       "</table></br>"
      ],
      "text/plain": [
       "<sunpy.net.fido_factory.UnifiedResponse object at 0x152db118fe48>\n",
       "Results from 2 Providers:\n",
       "\n",
       "3 Results from the JSOCClient:\n",
       "       T_REC         TELESCOP INSTRUME WAVELNTH CAR_ROT\n",
       "       str20           str7     str5    int64    int64 \n",
       "-------------------- -------- -------- -------- -------\n",
       "2014-01-01T00:00:01Z  SDO/AIA    AIA_4      304    2145\n",
       "2014-01-01T00:00:13Z  SDO/AIA    AIA_4      304    2145\n",
       "2014-01-01T00:00:25Z  SDO/AIA    AIA_4      304    2145\n",
       "\n",
       "3 Results from the JSOCClient:\n",
       "       T_REC         TELESCOP INSTRUME WAVELNTH CAR_ROT\n",
       "       str20           str7     str5    int64    int64 \n",
       "-------------------- -------- -------- -------- -------\n",
       "2014-01-01T00:00:01Z  SDO/AIA    AIA_3      171    2145\n",
       "2014-01-01T00:00:13Z  SDO/AIA    AIA_3      171    2145\n",
       "2014-01-01T00:00:25Z  SDO/AIA    AIA_3      171    2145\n"
      ]
     },
     "execution_count": 2,
     "metadata": {},
     "output_type": "execute_result"
    }
   ],
   "source": [
    "response = Fido.search(\n",
    "    attrs.jsoc.Time('2014-01-01T00:00:00', '2014-01-01T00:00:30'),\n",
    "    attrs.jsoc.Notify('lydiazly@nju.edu.cn'),\n",
    "    attrs.jsoc.Series('aia.lev1_euv_12s'),\n",
    "    attrs.jsoc.Wavelength(304 * u.AA) | attrs.jsoc.Wavelength(171 * u.AA)\n",
    ")\n",
    "response"
   ]
  },
  {
   "cell_type": "code",
   "execution_count": 3,
   "metadata": {},
   "outputs": [
    {
     "data": {
      "text/plain": [
       "sunpy.net.fido_factory.UnifiedResponse"
      ]
     },
     "execution_count": 3,
     "metadata": {},
     "output_type": "execute_result"
    }
   ],
   "source": [
    "type(response)"
   ]
  },
  {
   "cell_type": "markdown",
   "metadata": {},
   "source": [
    "#### Indexing"
   ]
  },
  {
   "cell_type": "markdown",
   "metadata": {},
   "source": [
    "* First index: client (still necessary even if results are only found for a single client)\n",
    "\n",
    "* Second index: rows (must be **iterable**, different from [[Example: downloading data using Fido](fido.ipynb)])"
   ]
  },
  {
   "cell_type": "code",
   "execution_count": 6,
   "metadata": {
    "scrolled": false
   },
   "outputs": [
    {
     "data": {
      "text/html": [
       "Results from 1 Provider:</br></br>3 Results from the JSOCClient:</br><i>Table length=3</i>\n",
       "<table id=\"table22680339934904\" class=\"table-striped table-bordered table-condensed\">\n",
       "<thead><tr><th>T_REC</th><th>TELESCOP</th><th>INSTRUME</th><th>WAVELNTH</th><th>CAR_ROT</th></tr></thead>\n",
       "<thead><tr><th>str20</th><th>str7</th><th>str5</th><th>int64</th><th>int64</th></tr></thead>\n",
       "<tr><td>2014-01-01T00:00:01Z</td><td>SDO/AIA</td><td>AIA_3</td><td>171</td><td>2145</td></tr>\n",
       "<tr><td>2014-01-01T00:00:13Z</td><td>SDO/AIA</td><td>AIA_3</td><td>171</td><td>2145</td></tr>\n",
       "<tr><td>2014-01-01T00:00:25Z</td><td>SDO/AIA</td><td>AIA_3</td><td>171</td><td>2145</td></tr>\n",
       "</table></br>"
      ],
      "text/plain": [
       "<sunpy.net.fido_factory.UnifiedResponse object at 0x14a0ae2c7e80>\n",
       "Results from 1 Provider:\n",
       "\n",
       "3 Results from the JSOCClient:\n",
       "       T_REC         TELESCOP INSTRUME WAVELNTH CAR_ROT\n",
       "       str20           str7     str5    int64    int64 \n",
       "-------------------- -------- -------- -------- -------\n",
       "2014-01-01T00:00:01Z  SDO/AIA    AIA_3      171    2145\n",
       "2014-01-01T00:00:13Z  SDO/AIA    AIA_3      171    2145\n",
       "2014-01-01T00:00:25Z  SDO/AIA    AIA_3      171    2145\n"
      ]
     },
     "execution_count": 6,
     "metadata": {},
     "output_type": "execute_result"
    }
   ],
   "source": [
    "response[1]"
   ]
  },
  {
   "cell_type": "code",
   "execution_count": 7,
   "metadata": {
    "scrolled": false
   },
   "outputs": [
    {
     "data": {
      "text/html": [
       "Results from 1 Provider:</br></br>2 Results from the JSOCClient:</br><i>Table length=2</i>\n",
       "<table id=\"table22680349474264\" class=\"table-striped table-bordered table-condensed\">\n",
       "<thead><tr><th>T_REC</th><th>TELESCOP</th><th>INSTRUME</th><th>WAVELNTH</th><th>CAR_ROT</th></tr></thead>\n",
       "<thead><tr><th>str20</th><th>str7</th><th>str5</th><th>int64</th><th>int64</th></tr></thead>\n",
       "<tr><td>2014-01-01T00:00:01Z</td><td>SDO/AIA</td><td>AIA_3</td><td>171</td><td>2145</td></tr>\n",
       "<tr><td>2014-01-01T00:00:25Z</td><td>SDO/AIA</td><td>AIA_3</td><td>171</td><td>2145</td></tr>\n",
       "</table></br>"
      ],
      "text/plain": [
       "<sunpy.net.fido_factory.UnifiedResponse object at 0x14a0ae2c7438>\n",
       "Results from 1 Provider:\n",
       "\n",
       "2 Results from the JSOCClient:\n",
       "       T_REC         TELESCOP INSTRUME WAVELNTH CAR_ROT\n",
       "       str20           str7     str5    int64    int64 \n",
       "-------------------- -------- -------- -------- -------\n",
       "2014-01-01T00:00:01Z  SDO/AIA    AIA_3      171    2145\n",
       "2014-01-01T00:00:25Z  SDO/AIA    AIA_3      171    2145\n"
      ]
     },
     "execution_count": 7,
     "metadata": {},
     "output_type": "execute_result"
    }
   ],
   "source": [
    "response[1, ::2]"
   ]
  },
  {
   "cell_type": "code",
   "execution_count": 8,
   "metadata": {},
   "outputs": [
    {
     "data": {
      "text/html": [
       "Results from 1 Provider:</br></br>1 Results from the JSOCClient:</br><i>Table length=1</i>\n",
       "<table id=\"table22680349474768\" class=\"table-striped table-bordered table-condensed\">\n",
       "<thead><tr><th>T_REC</th><th>TELESCOP</th><th>INSTRUME</th><th>WAVELNTH</th><th>CAR_ROT</th></tr></thead>\n",
       "<thead><tr><th>str20</th><th>str7</th><th>str5</th><th>int64</th><th>int64</th></tr></thead>\n",
       "<tr><td>2014-01-01T00:00:25Z</td><td>SDO/AIA</td><td>AIA_4</td><td>304</td><td>2145</td></tr>\n",
       "</table></br>"
      ],
      "text/plain": [
       "<sunpy.net.fido_factory.UnifiedResponse object at 0x14a0ae2bb048>\n",
       "Results from 1 Provider:\n",
       "\n",
       "1 Results from the JSOCClient:\n",
       "       T_REC         TELESCOP INSTRUME WAVELNTH CAR_ROT\n",
       "       str20           str7     str5    int64    int64 \n",
       "-------------------- -------- -------- -------- -------\n",
       "2014-01-01T00:00:25Z  SDO/AIA    AIA_4      304    2145\n"
      ]
     },
     "execution_count": 8,
     "metadata": {},
     "output_type": "execute_result"
    }
   ],
   "source": [
    "response[0, [2]]  # Not `response[0, 2]` !"
   ]
  },
  {
   "cell_type": "markdown",
   "metadata": {},
   "source": [
    "#### Downloading data"
   ]
  },
  {
   "cell_type": "markdown",
   "metadata": {},
   "source": [
    "Download the entire results:"
   ]
  },
  {
   "cell_type": "code",
   "execution_count": null,
   "metadata": {},
   "outputs": [],
   "source": [
    "res = Fido.fetch(response, path='./data')  # Will output a progress bar by default"
   ]
  },
  {
   "cell_type": "markdown",
   "metadata": {},
   "source": [
    "### JSOCClient"
   ]
  },
  {
   "cell_type": "markdown",
   "metadata": {},
   "source": [
    "> The JSOC stages data before you can download it, so a JSOC query is a **three** stage process.\n",
    " 1. **`search`**: query the JSOC for records and a table of these records is returned.<br>\n",
    " The result is `UnifiedResponse` for `Fido` while `JSOCResponse` for `JSOCClient`\n",
    " - **`request_data`**: request these records to be staged for download.\n",
    " - **`get_request`**: download.\n",
    ">\n",
    "> (`Fido` combines the stages into 2, `search` and `fetch`.)"
   ]
  },
  {
   "cell_type": "markdown",
   "metadata": {},
   "source": [
    "#### Searching for data"
   ]
  },
  {
   "cell_type": "code",
   "execution_count": 2,
   "metadata": {},
   "outputs": [],
   "source": [
    "from sunpy.net import jsoc\n",
    "client = jsoc.JSOCClient()"
   ]
  },
  {
   "cell_type": "code",
   "execution_count": 3,
   "metadata": {},
   "outputs": [
    {
     "data": {
      "text/html": [
       "<i>Table length=4</i>\n",
       "<table id=\"table23453611657088\" class=\"table-striped table-bordered table-condensed\">\n",
       "<thead><tr><th>T_REC</th><th>TELESCOP</th><th>INSTRUME</th><th>WAVELNTH</th><th>CAR_ROT</th></tr></thead>\n",
       "<thead><tr><th>str20</th><th>str7</th><th>str5</th><th>int64</th><th>int64</th></tr></thead>\n",
       "<tr><td>2014-01-01T00:00:01Z</td><td>SDO/AIA</td><td>AIA_4</td><td>304</td><td>2145</td></tr>\n",
       "<tr><td>2014-01-01T00:00:13Z</td><td>SDO/AIA</td><td>AIA_4</td><td>304</td><td>2145</td></tr>\n",
       "<tr><td>2014-01-01T00:00:01Z</td><td>SDO/AIA</td><td>AIA_3</td><td>171</td><td>2145</td></tr>\n",
       "<tr><td>2014-01-01T00:00:13Z</td><td>SDO/AIA</td><td>AIA_3</td><td>171</td><td>2145</td></tr>\n",
       "</table>"
      ],
      "text/plain": [
       "<Table length=4>\n",
       "       T_REC         TELESCOP INSTRUME WAVELNTH CAR_ROT\n",
       "       str20           str7     str5    int64    int64 \n",
       "-------------------- -------- -------- -------- -------\n",
       "2014-01-01T00:00:01Z  SDO/AIA    AIA_4      304    2145\n",
       "2014-01-01T00:00:13Z  SDO/AIA    AIA_4      304    2145\n",
       "2014-01-01T00:00:01Z  SDO/AIA    AIA_3      171    2145\n",
       "2014-01-01T00:00:13Z  SDO/AIA    AIA_3      171    2145"
      ]
     },
     "execution_count": 3,
     "metadata": {},
     "output_type": "execute_result"
    }
   ],
   "source": [
    "response = client.search(\n",
    "    attrs.jsoc.Time('2014-01-01T00:00:00', '2014-01-01T00:00:20'),\n",
    "    attrs.jsoc.Notify('lydiazly@nju.edu.cn'),\n",
    "    attrs.jsoc.Series('aia.lev1_euv_12s'),\n",
    "    attrs.jsoc.Wavelength(304 * u.AA) | attrs.jsoc.Wavelength(171 * u.AA)\n",
    ")\n",
    "response"
   ]
  },
  {
   "cell_type": "markdown",
   "metadata": {},
   "source": [
    "Note here we get a single table."
   ]
  },
  {
   "cell_type": "code",
   "execution_count": 4,
   "metadata": {},
   "outputs": [
    {
     "data": {
      "text/plain": [
       "sunpy.net.jsoc.jsoc.JSOCResponse"
      ]
     },
     "execution_count": 4,
     "metadata": {},
     "output_type": "execute_result"
    }
   ],
   "source": [
    "type(response)"
   ]
  },
  {
   "cell_type": "markdown",
   "metadata": {},
   "source": [
    "#### Indexing"
   ]
  },
  {
   "cell_type": "markdown",
   "metadata": {},
   "source": [
    "An integer get a `Row`:"
   ]
  },
  {
   "cell_type": "code",
   "execution_count": 5,
   "metadata": {
    "scrolled": true
   },
   "outputs": [
    {
     "data": {
      "text/html": [
       "<i>Row index=2</i>\n",
       "<table id=\"table23453611657088\">\n",
       "<thead><tr><th>T_REC</th><th>TELESCOP</th><th>INSTRUME</th><th>WAVELNTH</th><th>CAR_ROT</th></tr></thead>\n",
       "<thead><tr><th>str20</th><th>str7</th><th>str5</th><th>int64</th><th>int64</th></tr></thead>\n",
       "<tr><td>2014-01-01T00:00:01Z</td><td>SDO/AIA</td><td>AIA_3</td><td>171</td><td>2145</td></tr>\n",
       "</table>"
      ],
      "text/plain": [
       "<Row index=2>\n",
       "       T_REC         TELESCOP INSTRUME WAVELNTH CAR_ROT\n",
       "       str20           str7     str5    int64    int64 \n",
       "-------------------- -------- -------- -------- -------\n",
       "2014-01-01T00:00:01Z  SDO/AIA    AIA_3      171    2145"
      ]
     },
     "execution_count": 5,
     "metadata": {},
     "output_type": "execute_result"
    }
   ],
   "source": [
    "response[2]"
   ]
  },
  {
   "cell_type": "markdown",
   "metadata": {},
   "source": [
    "A **iterable** get a `Table`:"
   ]
  },
  {
   "cell_type": "code",
   "execution_count": 6,
   "metadata": {
    "scrolled": true
   },
   "outputs": [
    {
     "data": {
      "text/html": [
       "<i>Table length=1</i>\n",
       "<table id=\"table23453620502480\" class=\"table-striped table-bordered table-condensed\">\n",
       "<thead><tr><th>T_REC</th><th>TELESCOP</th><th>INSTRUME</th><th>WAVELNTH</th><th>CAR_ROT</th></tr></thead>\n",
       "<thead><tr><th>str20</th><th>str7</th><th>str5</th><th>int64</th><th>int64</th></tr></thead>\n",
       "<tr><td>2014-01-01T00:00:01Z</td><td>SDO/AIA</td><td>AIA_3</td><td>171</td><td>2145</td></tr>\n",
       "</table>"
      ],
      "text/plain": [
       "<Table length=1>\n",
       "       T_REC         TELESCOP INSTRUME WAVELNTH CAR_ROT\n",
       "       str20           str7     str5    int64    int64 \n",
       "-------------------- -------- -------- -------- -------\n",
       "2014-01-01T00:00:01Z  SDO/AIA    AIA_3      171    2145"
      ]
     },
     "execution_count": 6,
     "metadata": {},
     "output_type": "execute_result"
    }
   ],
   "source": [
    "response[[2]]"
   ]
  },
  {
   "cell_type": "markdown",
   "metadata": {},
   "source": [
    "Convert a `Row` to a `Table`:"
   ]
  },
  {
   "cell_type": "code",
   "execution_count": 7,
   "metadata": {},
   "outputs": [
    {
     "data": {
      "text/html": [
       "<i>Table length=1</i>\n",
       "<table id=\"table23453611454080\" class=\"table-striped table-bordered table-condensed\">\n",
       "<thead><tr><th>T_REC</th><th>TELESCOP</th><th>INSTRUME</th><th>WAVELNTH</th><th>CAR_ROT</th></tr></thead>\n",
       "<thead><tr><th>str20</th><th>str7</th><th>str5</th><th>int64</th><th>int64</th></tr></thead>\n",
       "<tr><td>2014-01-01T00:00:01Z</td><td>SDO/AIA</td><td>AIA_3</td><td>171</td><td>2145</td></tr>\n",
       "</table>"
      ],
      "text/plain": [
       "<Table length=1>\n",
       "       T_REC         TELESCOP INSTRUME WAVELNTH CAR_ROT\n",
       "       str20           str7     str5    int64    int64 \n",
       "-------------------- -------- -------- -------- -------\n",
       "2014-01-01T00:00:01Z  SDO/AIA    AIA_3      171    2145"
      ]
     },
     "execution_count": 7,
     "metadata": {},
     "output_type": "execute_result"
    }
   ],
   "source": [
    "from astropy.table.table import Table\n",
    "Table(response[2].table)"
   ]
  },
  {
   "cell_type": "markdown",
   "metadata": {},
   "source": [
    "Other examples:"
   ]
  },
  {
   "cell_type": "code",
   "execution_count": 8,
   "metadata": {
    "scrolled": true
   },
   "outputs": [
    {
     "data": {
      "text/html": [
       "<i>Table length=2</i>\n",
       "<table id=\"table23453620500632\" class=\"table-striped table-bordered table-condensed\">\n",
       "<thead><tr><th>T_REC</th><th>TELESCOP</th><th>INSTRUME</th><th>WAVELNTH</th><th>CAR_ROT</th></tr></thead>\n",
       "<thead><tr><th>str20</th><th>str7</th><th>str5</th><th>int64</th><th>int64</th></tr></thead>\n",
       "<tr><td>2014-01-01T00:00:01Z</td><td>SDO/AIA</td><td>AIA_4</td><td>304</td><td>2145</td></tr>\n",
       "<tr><td>2014-01-01T00:00:01Z</td><td>SDO/AIA</td><td>AIA_3</td><td>171</td><td>2145</td></tr>\n",
       "</table>"
      ],
      "text/plain": [
       "<Table length=2>\n",
       "       T_REC         TELESCOP INSTRUME WAVELNTH CAR_ROT\n",
       "       str20           str7     str5    int64    int64 \n",
       "-------------------- -------- -------- -------- -------\n",
       "2014-01-01T00:00:01Z  SDO/AIA    AIA_4      304    2145\n",
       "2014-01-01T00:00:01Z  SDO/AIA    AIA_3      171    2145"
      ]
     },
     "execution_count": 8,
     "metadata": {},
     "output_type": "execute_result"
    }
   ],
   "source": [
    "response[::2]"
   ]
  },
  {
   "cell_type": "code",
   "execution_count": 9,
   "metadata": {
    "scrolled": true
   },
   "outputs": [
    {
     "data": {
      "text/html": [
       "<i>Table length=2</i>\n",
       "<table id=\"table23453611657032\" class=\"table-striped table-bordered table-condensed\">\n",
       "<thead><tr><th>T_REC</th><th>TELESCOP</th><th>INSTRUME</th><th>WAVELNTH</th><th>CAR_ROT</th></tr></thead>\n",
       "<thead><tr><th>str20</th><th>str7</th><th>str5</th><th>int64</th><th>int64</th></tr></thead>\n",
       "<tr><td>2014-01-01T00:00:01Z</td><td>SDO/AIA</td><td>AIA_4</td><td>304</td><td>2145</td></tr>\n",
       "<tr><td>2014-01-01T00:00:13Z</td><td>SDO/AIA</td><td>AIA_4</td><td>304</td><td>2145</td></tr>\n",
       "</table>"
      ],
      "text/plain": [
       "<Table length=2>\n",
       "       T_REC         TELESCOP INSTRUME WAVELNTH CAR_ROT\n",
       "       str20           str7     str5    int64    int64 \n",
       "-------------------- -------- -------- -------- -------\n",
       "2014-01-01T00:00:01Z  SDO/AIA    AIA_4      304    2145\n",
       "2014-01-01T00:00:13Z  SDO/AIA    AIA_4      304    2145"
      ]
     },
     "execution_count": 9,
     "metadata": {},
     "output_type": "execute_result"
    }
   ],
   "source": [
    "response[:2]"
   ]
  },
  {
   "cell_type": "code",
   "execution_count": 10,
   "metadata": {
    "scrolled": true
   },
   "outputs": [
    {
     "data": {
      "text/html": [
       "<i>Table length=2</i>\n",
       "<table id=\"table23453611658600\" class=\"table-striped table-bordered table-condensed\">\n",
       "<thead><tr><th>T_REC</th><th>TELESCOP</th><th>INSTRUME</th><th>WAVELNTH</th><th>CAR_ROT</th></tr></thead>\n",
       "<thead><tr><th>str20</th><th>str7</th><th>str5</th><th>int64</th><th>int64</th></tr></thead>\n",
       "<tr><td>2014-01-01T00:00:01Z</td><td>SDO/AIA</td><td>AIA_4</td><td>304</td><td>2145</td></tr>\n",
       "<tr><td>2014-01-01T00:00:01Z</td><td>SDO/AIA</td><td>AIA_3</td><td>171</td><td>2145</td></tr>\n",
       "</table>"
      ],
      "text/plain": [
       "<Table length=2>\n",
       "       T_REC         TELESCOP INSTRUME WAVELNTH CAR_ROT\n",
       "       str20           str7     str5    int64    int64 \n",
       "-------------------- -------- -------- -------- -------\n",
       "2014-01-01T00:00:01Z  SDO/AIA    AIA_4      304    2145\n",
       "2014-01-01T00:00:01Z  SDO/AIA    AIA_3      171    2145"
      ]
     },
     "execution_count": 10,
     "metadata": {},
     "output_type": "execute_result"
    }
   ],
   "source": [
    "response[[0, 2]]"
   ]
  },
  {
   "cell_type": "markdown",
   "metadata": {},
   "source": [
    "#### Downloading data"
   ]
  },
  {
   "cell_type": "markdown",
   "metadata": {},
   "source": [
    "Download the entire results:"
   ]
  },
  {
   "cell_type": "code",
   "execution_count": 10,
   "metadata": {},
   "outputs": [
    {
     "name": "stdout",
     "output_type": "stream",
     "text": [
      "Export request pending. [id=\"JSOC_20180710_1151\", status=2]\n",
      "Waiting for 0 seconds...\n",
      "Export request pending. [id=\"JSOC_20180710_1151\", status=1]\n",
      "Waiting for 5 seconds...\n",
      "4 URLs found for download. Full request totalling 17MB\n",
      "Export request pending. [id=\"JSOC_20180710_1152\", status=2]\n",
      "Waiting for 0 seconds...\n",
      "4 URLs found for download. Full request totalling 24MB\n"
     ]
    }
   ],
   "source": [
    "res = client.fetch(response, path='./data')"
   ]
  },
  {
   "cell_type": "code",
   "execution_count": null,
   "metadata": {},
   "outputs": [],
   "source": [
    "res.wait()  # Show the progress bar & wait to finish downloading."
   ]
  },
  {
   "cell_type": "markdown",
   "metadata": {},
   "source": [
    "Or separate out the staging to `request_data` & `get_request`:"
   ]
  },
  {
   "cell_type": "code",
   "execution_count": 32,
   "metadata": {},
   "outputs": [],
   "source": [
    "requests = client.request_data(response)"
   ]
  },
  {
   "cell_type": "code",
   "execution_count": 55,
   "metadata": {},
   "outputs": [
    {
     "data": {
      "text/plain": [
       "'JSOC_20180708_435'"
      ]
     },
     "execution_count": 55,
     "metadata": {},
     "output_type": "execute_result"
    }
   ],
   "source": [
    "requests.id"
   ]
  },
  {
   "cell_type": "code",
   "execution_count": 56,
   "metadata": {},
   "outputs": [
    {
     "data": {
      "text/plain": [
       "0"
      ]
     },
     "execution_count": 56,
     "metadata": {},
     "output_type": "execute_result"
    }
   ],
   "source": [
    "requests.status"
   ]
  },
  {
   "cell_type": "code",
   "execution_count": null,
   "metadata": {},
   "outputs": [],
   "source": [
    "res = client.get_request(requests, path='./data')"
   ]
  },
  {
   "cell_type": "code",
   "execution_count": null,
   "metadata": {
    "scrolled": false
   },
   "outputs": [],
   "source": [
    "res.wait()"
   ]
  },
  {
   "cell_type": "markdown",
   "metadata": {},
   "source": [
    "So far, the best way to download a subset of the results is to **make a query\n",
    " again**.\n",
    "\n",
    "Or use **`JSOCClient`** (and a custom function) instead of **`Fido`** to search for data.\n",
    "\n",
    "See details below:"
   ]
  },
  {
   "cell_type": "markdown",
   "metadata": {},
   "source": [
    "If slice the result as `response[2]`, everything is OK except `query_args` is lost."
   ]
  },
  {
   "cell_type": "code",
   "execution_count": 11,
   "metadata": {
    "scrolled": true
   },
   "outputs": [
    {
     "data": {
      "text/plain": [
       "[{'wavelength': <Quantity 304. Angstrom>,\n",
       "  'start_time': datetime.datetime(2014, 1, 1, 0, 0, 35),\n",
       "  'end_time': datetime.datetime(2014, 1, 1, 0, 0, 55),\n",
       "  'notify': 'lydiazly@nju.edu.cn',\n",
       "  'series': 'aia.lev1_euv_12s'},\n",
       " {'wavelength': <Quantity 171. Angstrom>,\n",
       "  'start_time': datetime.datetime(2014, 1, 1, 0, 0, 35),\n",
       "  'end_time': datetime.datetime(2014, 1, 1, 0, 0, 55),\n",
       "  'notify': 'lydiazly@nju.edu.cn',\n",
       "  'series': 'aia.lev1_euv_12s'}]"
      ]
     },
     "execution_count": 11,
     "metadata": {},
     "output_type": "execute_result"
    }
   ],
   "source": [
    "response.query_args"
   ]
  },
  {
   "cell_type": "code",
   "execution_count": 12,
   "metadata": {
    "scrolled": true
   },
   "outputs": [],
   "source": [
    "response[2].query_args"
   ]
  },
  {
   "cell_type": "markdown",
   "metadata": {},
   "source": [
    "This will cause an error in `fetch`."
   ]
  },
  {
   "cell_type": "markdown",
   "metadata": {},
   "source": [
    "## Constructing complex queries"
   ]
  },
  {
   "cell_type": "markdown",
   "metadata": {},
   "source": [
    "### Time"
   ]
  },
  {
   "cell_type": "markdown",
   "metadata": {},
   "source": [
    "http://docs.sunpy.org/en/stable/guide/acquiring_data/jsoc.html\n",
    "> Start and end times for the query (any date/time format understood by SunPy’s `parse_time` function can be used to specify dates and time). **The Time attribute takes UTC time, as default.**<br>\n",
    "If you need to pass a Time in some other time scale, such as TAI, pass an Astropy Time object\n",
    "\n",
    "See http://docs.sunpy.org/en/stable/guide/time.html#parse-time"
   ]
  },
  {
   "cell_type": "code",
   "execution_count": 2,
   "metadata": {},
   "outputs": [],
   "source": [
    "from sunpy.time import parse_time, is_time, is_time_in_given_format"
   ]
  },
  {
   "cell_type": "code",
   "execution_count": 3,
   "metadata": {},
   "outputs": [
    {
     "data": {
      "text/plain": [
       "True"
      ]
     },
     "execution_count": 3,
     "metadata": {},
     "output_type": "execute_result"
    }
   ],
   "source": [
    "is_time('2014-01-01T00:00:00')"
   ]
  },
  {
   "cell_type": "code",
   "execution_count": 4,
   "metadata": {},
   "outputs": [
    {
     "data": {
      "text/plain": [
       "True"
      ]
     },
     "execution_count": 4,
     "metadata": {},
     "output_type": "execute_result"
    }
   ],
   "source": [
    "is_time_in_given_format('2014-01-01T00:00:00Z', \"%Y-%m-%dT%H:%M:%SZ\")"
   ]
  },
  {
   "cell_type": "code",
   "execution_count": 5,
   "metadata": {
    "scrolled": false
   },
   "outputs": [
    {
     "data": {
      "text/plain": [
       "datetime.datetime(2015, 8, 27, 6, 0)"
      ]
     },
     "execution_count": 5,
     "metadata": {},
     "output_type": "execute_result"
    }
   ],
   "source": [
    "parse_time('2015.08.27_06:00:00_TAI')"
   ]
  },
  {
   "cell_type": "code",
   "execution_count": 6,
   "metadata": {
    "scrolled": false
   },
   "outputs": [
    {
     "data": {
      "text/plain": [
       "datetime.datetime(2014, 1, 1, 0, 0)"
      ]
     },
     "execution_count": 6,
     "metadata": {},
     "output_type": "execute_result"
    }
   ],
   "source": [
    "parse_time('2014-01-01T00:00:00Z')"
   ]
  },
  {
   "cell_type": "markdown",
   "metadata": {},
   "source": [
    "If `sunpy.time` doesn't inlude this format: \"%Y-%m-%dT%H:%M:%SZ\", use [a bash script](/scripts/sunpy-add-time-fmt.sh) to add it:"
   ]
  },
  {
   "cell_type": "code",
   "execution_count": 6,
   "metadata": {},
   "outputs": [
    {
     "name": "stdout",
     "output_type": "stream",
     "text": [
      "Added this format to\r\n",
      "/home/lydia/miniconda3/lib/python3.6/site-packages/sunpy/time/time.py:\r\n",
      "\r\n",
      "    \u001b[01;31m\u001b[K\"%Y-%m-%dT%H:%M:%SZ\"\u001b[m\u001b[K,      # Example 2007-05-04T21:08:12Z\r\n",
      "\r\n",
      "=== Done!(sunpy-add-time-fmt) ===\r\n"
     ]
    }
   ],
   "source": [
    "!sunpy-add-time-fmt"
   ]
  },
  {
   "cell_type": "code",
   "execution_count": 5,
   "metadata": {
    "scrolled": true
   },
   "outputs": [
    {
     "data": {
      "text/plain": [
       "datetime.datetime(2014, 1, 1, 0, 0)"
      ]
     },
     "execution_count": 5,
     "metadata": {},
     "output_type": "execute_result"
    }
   ],
   "source": [
    "parse_time('2014-01-01T00:00:00Z')"
   ]
  },
  {
   "cell_type": "markdown",
   "metadata": {},
   "source": [
    "For convenience, use a custom function to pass a time string in 'TAI' scale:"
   ]
  },
  {
   "cell_type": "code",
   "execution_count": 7,
   "metadata": {},
   "outputs": [],
   "source": [
    "from usr_sunpy import tai"
   ]
  },
  {
   "cell_type": "code",
   "execution_count": 8,
   "metadata": {},
   "outputs": [
    {
     "data": {
      "text/plain": [
       "<Time object: scale='tai' format='datetime' value=2014-01-01 00:00:00>"
      ]
     },
     "execution_count": 8,
     "metadata": {},
     "output_type": "execute_result"
    }
   ],
   "source": [
    "tai('2014-01-01T00:00:00')  # Returns a single object"
   ]
  },
  {
   "cell_type": "code",
   "execution_count": 9,
   "metadata": {},
   "outputs": [
    {
     "data": {
      "text/plain": [
       "<Time object: scale='tai' format='datetime' value=2015-08-27 06:00:00>"
      ]
     },
     "execution_count": 9,
     "metadata": {},
     "output_type": "execute_result"
    }
   ],
   "source": [
    "tai('2015.08.27_06:00:00_TAI')"
   ]
  },
  {
   "cell_type": "code",
   "execution_count": 10,
   "metadata": {},
   "outputs": [
    {
     "data": {
      "text/plain": [
       "[<Time object: scale='tai' format='datetime' value=2015-08-27 06:00:00>,\n",
       " <Time object: scale='tai' format='datetime' value=2015-08-27 06:01:00>]"
      ]
     },
     "execution_count": 10,
     "metadata": {},
     "output_type": "execute_result"
    }
   ],
   "source": [
    "tai('2015.08.27_06:00:00_TAI', '2015.08.27_06:01:00_TAI')  # Returns a list"
   ]
  },
  {
   "cell_type": "markdown",
   "metadata": {},
   "source": [
    "### Searching for data"
   ]
  },
  {
   "cell_type": "markdown",
   "metadata": {},
   "source": [
    "JSOC http://jsoc.stanford.edu/ajax/lookdata.html"
   ]
  },
  {
   "cell_type": "markdown",
   "metadata": {},
   "source": [
    "* To make a request, [register your email first](http://jsoc.stanford.edu/ajax/register_email.html) :\n",
    "\n",
    "<img style='float: left;' src='fig/hmi03-1.png' width='800' />"
   ]
  },
  {
   "cell_type": "markdown",
   "metadata": {},
   "source": [
    "Example of [online JSOC interface](http://jsoc.stanford.edu/ajax/lookdata.html) :"
   ]
  },
  {
   "cell_type": "markdown",
   "metadata": {},
   "source": [
    "<img style='float: left;' src='fig/hmi02.png' width='900' />"
   ]
  },
  {
   "cell_type": "markdown",
   "metadata": {},
   "source": [
    "<img style='float: left;' src='fig/hmi03-2.png' width='900' />"
   ]
  },
  {
   "cell_type": "markdown",
   "metadata": {},
   "source": [
    "Use\n",
    "```python\n",
    "attrs.jsoc.Segment('...') &  attrs.jsoc.<attr>('...') ...\n",
    "```\n",
    "```python\n",
    "attrs.jsoc.Segment('...') |  attrs.jsoc.<attr>('...') ...\n",
    "```\n",
    "or\n",
    "```python\n",
    "from sunpy.net.attr import AttrAnd, AttrOr\n",
    "```\n",
    "```python\n",
    "AttrAnd(list(map(attrs.jsoc.<attr>, <list>)))\n",
    "```\n",
    "```python\n",
    "AttrOr(list(map(attrs.jsoc.<attr>, <list>)))\n",
    "```\n",
    "to pass multiple attributes.\n",
    "\n",
    "Note:\n",
    "> The attributes which support **`&`** are **`PrimeKey`** and **`Segment`**. Using **`&`** with any other attributes will throw an error."
   ]
  },
  {
   "cell_type": "markdown",
   "metadata": {},
   "source": [
    "* Specify attributes:\n",
    "\n",
    "e.g."
   ]
  },
  {
   "cell_type": "code",
   "execution_count": 2,
   "metadata": {},
   "outputs": [],
   "source": [
    "trange = tai('2015-08-27T05:00:00', '2015-08-27T06:00:00')\n",
    "\n",
    "segments = ['inclination', 'azimuth', 'disambig', 'field']\n",
    "\n",
    "series = 'hmi.B_720s'  # 'hmi.b_720s' is OK\n",
    "\n",
    "interval = 10 * u.min  # every 10 min.\n",
    "\n",
    "email = 'lydiazly@nju.edu.cn'"
   ]
  },
  {
   "cell_type": "markdown",
   "metadata": {},
   "source": [
    "* Making a query:"
   ]
  },
  {
   "cell_type": "code",
   "execution_count": 11,
   "metadata": {},
   "outputs": [],
   "source": [
    "from sunpy.net.attr import AttrAnd, AttrOr"
   ]
  },
  {
   "cell_type": "code",
   "execution_count": 5,
   "metadata": {},
   "outputs": [
    {
     "data": {
      "text/html": [
       "Results from 1 Provider:</br></br>6 Results from the JSOCClient:</br><i>Table length=6</i>\n",
       "<table id=\"table23187962870808\" class=\"table-striped table-bordered table-condensed\">\n",
       "<thead><tr><th>T_REC</th><th>TELESCOP</th><th>INSTRUME</th><th>WAVELNTH</th><th>CAR_ROT</th></tr></thead>\n",
       "<thead><tr><th>str23</th><th>str7</th><th>str9</th><th>float64</th><th>int64</th></tr></thead>\n",
       "<tr><td>2015.08.27_05:00:00_TAI</td><td>SDO/HMI</td><td>HMI_SIDE1</td><td>6173.0</td><td>2167</td></tr>\n",
       "<tr><td>2015.08.27_05:12:00_TAI</td><td>SDO/HMI</td><td>HMI_SIDE1</td><td>6173.0</td><td>2167</td></tr>\n",
       "<tr><td>2015.08.27_05:24:00_TAI</td><td>SDO/HMI</td><td>HMI_SIDE1</td><td>6173.0</td><td>2167</td></tr>\n",
       "<tr><td>2015.08.27_05:36:00_TAI</td><td>SDO/HMI</td><td>HMI_SIDE1</td><td>6173.0</td><td>2167</td></tr>\n",
       "<tr><td>2015.08.27_05:48:00_TAI</td><td>SDO/HMI</td><td>HMI_SIDE1</td><td>6173.0</td><td>2167</td></tr>\n",
       "<tr><td>2015.08.27_06:00:00_TAI</td><td>SDO/HMI</td><td>HMI_SIDE1</td><td>6173.0</td><td>2167</td></tr>\n",
       "</table></br>"
      ],
      "text/plain": [
       "<sunpy.net.fido_factory.UnifiedResponse object at 0x1516de50aef0>\n",
       "Results from 1 Provider:\n",
       "\n",
       "6 Results from the JSOCClient:\n",
       "         T_REC          TELESCOP  INSTRUME WAVELNTH CAR_ROT\n",
       "         str23            str7      str9   float64   int64 \n",
       "----------------------- -------- --------- -------- -------\n",
       "2015.08.27_05:00:00_TAI  SDO/HMI HMI_SIDE1   6173.0    2167\n",
       "2015.08.27_05:12:00_TAI  SDO/HMI HMI_SIDE1   6173.0    2167\n",
       "2015.08.27_05:24:00_TAI  SDO/HMI HMI_SIDE1   6173.0    2167\n",
       "2015.08.27_05:36:00_TAI  SDO/HMI HMI_SIDE1   6173.0    2167\n",
       "2015.08.27_05:48:00_TAI  SDO/HMI HMI_SIDE1   6173.0    2167\n",
       "2015.08.27_06:00:00_TAI  SDO/HMI HMI_SIDE1   6173.0    2167\n"
      ]
     },
     "execution_count": 5,
     "metadata": {},
     "output_type": "execute_result"
    }
   ],
   "source": [
    "response = Fido.search(\n",
    "    attrs.jsoc.Time(*trange),\n",
    "    attrs.jsoc.Series(series),\n",
    "    attrs.jsoc.Notify(email),\n",
    "    attrs.Sample(interval),\n",
    "    AttrAnd(list(map(attrs.jsoc.Segment, segments)))\n",
    "    # i.e. attrs.jsoc.Segment('...') &  attrs.jsoc.Segment('...') ...\n",
    ")\n",
    "response"
   ]
  }
 ],
 "metadata": {
  "hide_input": false,
  "kernelspec": {
   "display_name": "Python 3 (ipykernel)",
   "language": "python",
   "name": "python3"
  },
  "language_info": {
   "codemirror_mode": {
    "name": "ipython",
    "version": 3
   },
   "file_extension": ".py",
   "mimetype": "text/x-python",
   "name": "python",
   "nbconvert_exporter": "python",
   "pygments_lexer": "ipython3",
   "version": "3.10.5"
  },
  "toc": {
   "base_numbering": 1,
   "nav_menu": {
    "height": "320px",
    "width": "377px"
   },
   "number_sections": true,
   "sideBar": true,
   "skip_h1_title": true,
   "title_cell": "Table of Contents",
   "title_sidebar": "Contents",
   "toc_cell": false,
   "toc_position": {},
   "toc_section_display": true,
   "toc_window_display": false
  },
  "varInspector": {
   "cols": {
    "lenName": 16,
    "lenType": 16,
    "lenVar": 40
   },
   "kernels_config": {
    "python": {
     "delete_cmd_postfix": "",
     "delete_cmd_prefix": "del ",
     "library": "var_list.py",
     "varRefreshCmd": "print(var_dic_list())"
    },
    "r": {
     "delete_cmd_postfix": ") ",
     "delete_cmd_prefix": "rm(",
     "library": "var_list.r",
     "varRefreshCmd": "cat(var_dic_list()) "
    }
   },
   "types_to_exclude": [
    "module",
    "function",
    "builtin_function_or_method",
    "instance",
    "_Feature"
   ],
   "window_display": false
  }
 },
 "nbformat": 4,
 "nbformat_minor": 2
}
