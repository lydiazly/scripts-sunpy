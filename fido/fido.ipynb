{
 "cells": [
  {
   "cell_type": "markdown",
   "metadata": {},
   "source": [
    "# Example: downloading data using Fido"
   ]
  },
  {
   "cell_type": "markdown",
   "metadata": {},
   "source": [
    "Reference http://docs.sunpy.org/en/stable/guide/acquiring_data/fido.html\n",
    "\n",
    " See also: [Example: downloading data from JSOC](jsoc.ipynb)\n"
   ]
  },
  {
   "cell_type": "code",
   "execution_count": 1,
   "metadata": {},
   "outputs": [],
   "source": [
    "import astropy.units as u\n",
    "\n",
    "from sunpy.net import Fido, attrs"
   ]
  },
  {
   "cell_type": "markdown",
   "metadata": {},
   "source": [
    "To be clear, here we use\n",
    "```python\n",
    "from sunpy.net import Fido, attrs\n",
    "```\n",
    "instead of examples in http://docs.sunpy.org/en/stable/guide/acquiring_data/jsoc.html\n",
    "```python\n",
    "from sunpy.net import Fido, attrs as a\n",
    "```\n"
   ]
  },
  {
   "cell_type": "markdown",
   "metadata": {},
   "source": [
    "## Searching for data"
   ]
  },
  {
   "cell_type": "code",
   "execution_count": 2,
   "metadata": {
    "scrolled": false
   },
   "outputs": [
    {
     "data": {
      "text/html": [
       "Results from 2 Providers:</br></br>5 Results from the VSOClient:</br><i>QTable length=5</i>\n",
       "<table id=\"table23199520252144\" class=\"table-striped table-bordered table-condensed\">\n",
       "<thead><tr><th>Start Time [1]</th><th>End Time [1]</th><th>Source</th><th>Instrument</th><th>Type</th><th>Wavelength [2]</th></tr></thead>\n",
       "<thead><tr><th></th><th></th><th></th><th></th><th></th><th>Angstrom</th></tr></thead>\n",
       "<thead><tr><th>str19</th><th>str19</th><th>str3</th><th>str3</th><th>str8</th><th>float64</th></tr></thead>\n",
       "<tr><td>2014-01-01 00:00:07</td><td>2014-01-01 00:00:08</td><td>SDO</td><td>AIA</td><td>FULLDISK</td><td>304.0 .. 304.0</td></tr>\n",
       "<tr><td>2014-01-01 00:00:19</td><td>2014-01-01 00:00:20</td><td>SDO</td><td>AIA</td><td>FULLDISK</td><td>304.0 .. 304.0</td></tr>\n",
       "<tr><td>2014-01-01 00:00:31</td><td>2014-01-01 00:00:32</td><td>SDO</td><td>AIA</td><td>FULLDISK</td><td>304.0 .. 304.0</td></tr>\n",
       "<tr><td>2014-01-01 00:00:43</td><td>2014-01-01 00:00:44</td><td>SDO</td><td>AIA</td><td>FULLDISK</td><td>304.0 .. 304.0</td></tr>\n",
       "<tr><td>2014-01-01 00:00:55</td><td>2014-01-01 00:00:56</td><td>SDO</td><td>AIA</td><td>FULLDISK</td><td>304.0 .. 304.0</td></tr>\n",
       "</table></br>5 Results from the VSOClient:</br><i>QTable length=5</i>\n",
       "<table id=\"table23199530661536\" class=\"table-striped table-bordered table-condensed\">\n",
       "<thead><tr><th>Start Time [1]</th><th>End Time [1]</th><th>Source</th><th>Instrument</th><th>Type</th><th>Wavelength [2]</th></tr></thead>\n",
       "<thead><tr><th></th><th></th><th></th><th></th><th></th><th>Angstrom</th></tr></thead>\n",
       "<thead><tr><th>str19</th><th>str19</th><th>str3</th><th>str3</th><th>str8</th><th>float64</th></tr></thead>\n",
       "<tr><td>2014-01-01 00:00:11</td><td>2014-01-01 00:00:12</td><td>SDO</td><td>AIA</td><td>FULLDISK</td><td>171.0 .. 171.0</td></tr>\n",
       "<tr><td>2014-01-01 00:00:23</td><td>2014-01-01 00:00:24</td><td>SDO</td><td>AIA</td><td>FULLDISK</td><td>171.0 .. 171.0</td></tr>\n",
       "<tr><td>2014-01-01 00:00:35</td><td>2014-01-01 00:00:36</td><td>SDO</td><td>AIA</td><td>FULLDISK</td><td>171.0 .. 171.0</td></tr>\n",
       "<tr><td>2014-01-01 00:00:47</td><td>2014-01-01 00:00:48</td><td>SDO</td><td>AIA</td><td>FULLDISK</td><td>171.0 .. 171.0</td></tr>\n",
       "<tr><td>2014-01-01 00:00:59</td><td>2014-01-01 00:01:00</td><td>SDO</td><td>AIA</td><td>FULLDISK</td><td>171.0 .. 171.0</td></tr>\n",
       "</table></br>"
      ],
      "text/plain": [
       "<sunpy.net.fido_factory.UnifiedResponse object at 0x15198fc8b588>\n",
       "Results from 2 Providers:\n",
       "\n",
       "5 Results from the VSOClient:\n",
       "   Start Time [1]       End Time [1]    Source ...   Type   Wavelength [2]\n",
       "                                               ...             Angstrom   \n",
       "       str19               str19         str3  ...   str8      float64    \n",
       "------------------- ------------------- ------ ... -------- --------------\n",
       "2014-01-01 00:00:07 2014-01-01 00:00:08    SDO ... FULLDISK 304.0 .. 304.0\n",
       "2014-01-01 00:00:19 2014-01-01 00:00:20    SDO ... FULLDISK 304.0 .. 304.0\n",
       "2014-01-01 00:00:31 2014-01-01 00:00:32    SDO ... FULLDISK 304.0 .. 304.0\n",
       "2014-01-01 00:00:43 2014-01-01 00:00:44    SDO ... FULLDISK 304.0 .. 304.0\n",
       "2014-01-01 00:00:55 2014-01-01 00:00:56    SDO ... FULLDISK 304.0 .. 304.0\n",
       "\n",
       "5 Results from the VSOClient:\n",
       "   Start Time [1]       End Time [1]    Source ...   Type   Wavelength [2]\n",
       "                                               ...             Angstrom   \n",
       "       str19               str19         str3  ...   str8      float64    \n",
       "------------------- ------------------- ------ ... -------- --------------\n",
       "2014-01-01 00:00:11 2014-01-01 00:00:12    SDO ... FULLDISK 171.0 .. 171.0\n",
       "2014-01-01 00:00:23 2014-01-01 00:00:24    SDO ... FULLDISK 171.0 .. 171.0\n",
       "2014-01-01 00:00:35 2014-01-01 00:00:36    SDO ... FULLDISK 171.0 .. 171.0\n",
       "2014-01-01 00:00:47 2014-01-01 00:00:48    SDO ... FULLDISK 171.0 .. 171.0\n",
       "2014-01-01 00:00:59 2014-01-01 00:01:00    SDO ... FULLDISK 171.0 .. 171.0\n"
      ]
     },
     "execution_count": 2,
     "metadata": {},
     "output_type": "execute_result"
    }
   ],
   "source": [
    "response = Fido.search(\n",
    "    attrs.Time('2014-01-01T00:00:00', '2014-01-01T00:01:00'),\n",
    "    # UTC time as default\n",
    "    attrs.Instrument('aia'),\n",
    "    attrs.Wavelength(304 * u.AA) | attrs.Wavelength(171 * u.AA)\n",
    ")\n",
    "response"
   ]
  },
  {
   "cell_type": "markdown",
   "metadata": {},
   "source": [
    "## Indexing"
   ]
  },
  {
   "cell_type": "markdown",
   "metadata": {},
   "source": [
    "* First index: client (still necessary even if results are only found for a single client)\n",
    "\n",
    "* Second index: rows (must be integers or slices, **not list**)\n",
    "\n",
    "See also http://docs.sunpy.org/en/stable/guide/acquiring_data/fido.html#indexing-search-results"
   ]
  },
  {
   "cell_type": "code",
   "execution_count": 3,
   "metadata": {
    "scrolled": false
   },
   "outputs": [
    {
     "data": {
      "text/html": [
       "Results from 1 Provider:</br></br>5 Results from the VSOClient:</br><i>QTable length=5</i>\n",
       "<table id=\"table23199520359032\" class=\"table-striped table-bordered table-condensed\">\n",
       "<thead><tr><th>Start Time [1]</th><th>End Time [1]</th><th>Source</th><th>Instrument</th><th>Type</th><th>Wavelength [2]</th></tr></thead>\n",
       "<thead><tr><th></th><th></th><th></th><th></th><th></th><th>Angstrom</th></tr></thead>\n",
       "<thead><tr><th>str19</th><th>str19</th><th>str3</th><th>str3</th><th>str8</th><th>float64</th></tr></thead>\n",
       "<tr><td>2014-01-01 00:00:11</td><td>2014-01-01 00:00:12</td><td>SDO</td><td>AIA</td><td>FULLDISK</td><td>171.0 .. 171.0</td></tr>\n",
       "<tr><td>2014-01-01 00:00:23</td><td>2014-01-01 00:00:24</td><td>SDO</td><td>AIA</td><td>FULLDISK</td><td>171.0 .. 171.0</td></tr>\n",
       "<tr><td>2014-01-01 00:00:35</td><td>2014-01-01 00:00:36</td><td>SDO</td><td>AIA</td><td>FULLDISK</td><td>171.0 .. 171.0</td></tr>\n",
       "<tr><td>2014-01-01 00:00:47</td><td>2014-01-01 00:00:48</td><td>SDO</td><td>AIA</td><td>FULLDISK</td><td>171.0 .. 171.0</td></tr>\n",
       "<tr><td>2014-01-01 00:00:59</td><td>2014-01-01 00:01:00</td><td>SDO</td><td>AIA</td><td>FULLDISK</td><td>171.0 .. 171.0</td></tr>\n",
       "</table></br>"
      ],
      "text/plain": [
       "<sunpy.net.fido_factory.UnifiedResponse object at 0x15198f29ecc0>\n",
       "Results from 1 Provider:\n",
       "\n",
       "5 Results from the VSOClient:\n",
       "   Start Time [1]       End Time [1]    Source ...   Type   Wavelength [2]\n",
       "                                               ...             Angstrom   \n",
       "       str19               str19         str3  ...   str8      float64    \n",
       "------------------- ------------------- ------ ... -------- --------------\n",
       "2014-01-01 00:00:11 2014-01-01 00:00:12    SDO ... FULLDISK 171.0 .. 171.0\n",
       "2014-01-01 00:00:23 2014-01-01 00:00:24    SDO ... FULLDISK 171.0 .. 171.0\n",
       "2014-01-01 00:00:35 2014-01-01 00:00:36    SDO ... FULLDISK 171.0 .. 171.0\n",
       "2014-01-01 00:00:47 2014-01-01 00:00:48    SDO ... FULLDISK 171.0 .. 171.0\n",
       "2014-01-01 00:00:59 2014-01-01 00:01:00    SDO ... FULLDISK 171.0 .. 171.0\n"
      ]
     },
     "execution_count": 3,
     "metadata": {},
     "output_type": "execute_result"
    }
   ],
   "source": [
    "response[1]"
   ]
  },
  {
   "cell_type": "code",
   "execution_count": 4,
   "metadata": {
    "scrolled": false
   },
   "outputs": [
    {
     "data": {
      "text/html": [
       "Results from 1 Provider:</br></br>3 Results from the VSOClient:</br><i>QTable length=3</i>\n",
       "<table id=\"table23199520361608\" class=\"table-striped table-bordered table-condensed\">\n",
       "<thead><tr><th>Start Time [1]</th><th>End Time [1]</th><th>Source</th><th>Instrument</th><th>Type</th><th>Wavelength [2]</th></tr></thead>\n",
       "<thead><tr><th></th><th></th><th></th><th></th><th></th><th>Angstrom</th></tr></thead>\n",
       "<thead><tr><th>str19</th><th>str19</th><th>str3</th><th>str3</th><th>str8</th><th>float64</th></tr></thead>\n",
       "<tr><td>2014-01-01 00:00:11</td><td>2014-01-01 00:00:12</td><td>SDO</td><td>AIA</td><td>FULLDISK</td><td>171.0 .. 171.0</td></tr>\n",
       "<tr><td>2014-01-01 00:00:35</td><td>2014-01-01 00:00:36</td><td>SDO</td><td>AIA</td><td>FULLDISK</td><td>171.0 .. 171.0</td></tr>\n",
       "<tr><td>2014-01-01 00:00:59</td><td>2014-01-01 00:01:00</td><td>SDO</td><td>AIA</td><td>FULLDISK</td><td>171.0 .. 171.0</td></tr>\n",
       "</table></br>"
      ],
      "text/plain": [
       "<sunpy.net.fido_factory.UnifiedResponse object at 0x15198f29ee80>\n",
       "Results from 1 Provider:\n",
       "\n",
       "3 Results from the VSOClient:\n",
       "   Start Time [1]       End Time [1]    Source ...   Type   Wavelength [2]\n",
       "                                               ...             Angstrom   \n",
       "       str19               str19         str3  ...   str8      float64    \n",
       "------------------- ------------------- ------ ... -------- --------------\n",
       "2014-01-01 00:00:11 2014-01-01 00:00:12    SDO ... FULLDISK 171.0 .. 171.0\n",
       "2014-01-01 00:00:35 2014-01-01 00:00:36    SDO ... FULLDISK 171.0 .. 171.0\n",
       "2014-01-01 00:00:59 2014-01-01 00:01:00    SDO ... FULLDISK 171.0 .. 171.0\n"
      ]
     },
     "execution_count": 4,
     "metadata": {},
     "output_type": "execute_result"
    }
   ],
   "source": [
    "response[1, ::2]"
   ]
  },
  {
   "cell_type": "code",
   "execution_count": 5,
   "metadata": {},
   "outputs": [
    {
     "data": {
      "text/html": [
       "Results from 1 Provider:</br></br>1 Results from the VSOClient:</br><i>QTable length=1</i>\n",
       "<table id=\"table23199531124496\" class=\"table-striped table-bordered table-condensed\">\n",
       "<thead><tr><th>Start Time [1]</th><th>End Time [1]</th><th>Source</th><th>Instrument</th><th>Type</th><th>Wavelength [2]</th></tr></thead>\n",
       "<thead><tr><th></th><th></th><th></th><th></th><th></th><th>Angstrom</th></tr></thead>\n",
       "<thead><tr><th>str19</th><th>str19</th><th>str3</th><th>str3</th><th>str8</th><th>float64</th></tr></thead>\n",
       "<tr><td>2014-01-01 00:00:19</td><td>2014-01-01 00:00:20</td><td>SDO</td><td>AIA</td><td>FULLDISK</td><td>304.0 .. 304.0</td></tr>\n",
       "</table></br>"
      ],
      "text/plain": [
       "<sunpy.net.fido_factory.UnifiedResponse object at 0x15198f291b38>\n",
       "Results from 1 Provider:\n",
       "\n",
       "1 Results from the VSOClient:\n",
       "   Start Time [1]       End Time [1]    Source ...   Type   Wavelength [2]\n",
       "                                               ...             Angstrom   \n",
       "       str19               str19         str3  ...   str8      float64    \n",
       "------------------- ------------------- ------ ... -------- --------------\n",
       "2014-01-01 00:00:19 2014-01-01 00:00:20    SDO ... FULLDISK 304.0 .. 304.0\n"
      ]
     },
     "execution_count": 5,
     "metadata": {},
     "output_type": "execute_result"
    }
   ],
   "source": [
    "response[0, 1]"
   ]
  },
  {
   "cell_type": "markdown",
   "metadata": {},
   "source": [
    "## Downloading data"
   ]
  },
  {
   "cell_type": "markdown",
   "metadata": {},
   "source": [
    "Download the entire results:"
   ]
  },
  {
   "cell_type": "code",
   "execution_count": null,
   "metadata": {},
   "outputs": [],
   "source": [
    "res = Fido.fetch(response, path='./data')"
   ]
  },
  {
   "cell_type": "markdown",
   "metadata": {},
   "source": [
    "Download a subset:"
   ]
  },
  {
   "cell_type": "code",
   "execution_count": null,
   "metadata": {
    "scrolled": true
   },
   "outputs": [],
   "source": [
    "res = Fido.fetch(response[0, 0], path='./data')"
   ]
  },
  {
   "cell_type": "markdown",
   "metadata": {},
   "source": [
    "`Fido.fetch` will output a progress bar by default."
   ]
  }
 ],
 "metadata": {
  "hide_input": false,
  "kernelspec": {
   "display_name": "Python 3",
   "language": "python",
   "name": "python3"
  },
  "language_info": {
   "codemirror_mode": {
    "name": "ipython",
    "version": 3
   },
   "file_extension": ".py",
   "mimetype": "text/x-python",
   "name": "python",
   "nbconvert_exporter": "python",
   "pygments_lexer": "ipython3",
   "version": "3.6.5"
  },
  "toc": {
   "base_numbering": 1,
   "nav_menu": {
    "height": "320px",
    "width": "377px"
   },
   "number_sections": true,
   "sideBar": true,
   "skip_h1_title": true,
   "title_cell": "Table of Contents",
   "title_sidebar": "Contents",
   "toc_cell": false,
   "toc_position": {},
   "toc_section_display": true,
   "toc_window_display": false
  },
  "varInspector": {
   "cols": {
    "lenName": 16,
    "lenType": 16,
    "lenVar": 40
   },
   "kernels_config": {
    "python": {
     "delete_cmd_postfix": "",
     "delete_cmd_prefix": "del ",
     "library": "var_list.py",
     "varRefreshCmd": "print(var_dic_list())"
    },
    "r": {
     "delete_cmd_postfix": ") ",
     "delete_cmd_prefix": "rm(",
     "library": "var_list.r",
     "varRefreshCmd": "cat(var_dic_list()) "
    }
   },
   "types_to_exclude": [
    "module",
    "function",
    "builtin_function_or_method",
    "instance",
    "_Feature"
   ],
   "window_display": false
  }
 },
 "nbformat": 4,
 "nbformat_minor": 2
}
