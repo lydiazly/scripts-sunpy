{
 "cells": [
  {
   "cell_type": "markdown",
   "metadata": {},
   "source": [
    "# JSOC Download Example"
   ]
  },
  {
   "cell_type": "code",
   "execution_count": 1,
   "metadata": {},
   "outputs": [],
   "source": [
    "%load_ext autoreload\n",
    "%autoreload 2\n",
    "\n",
    "import astropy.units as u\n",
    "from sunpy.net import attrs, jsoc\n",
    "\n",
    "import warnings\n",
    "from astropy.utils.exceptions import AstropyDeprecationWarning\n",
    "warnings.simplefilter(\"ignore\", category=FutureWarning)\n",
    "warnings.simplefilter(\"ignore\", category=AstropyDeprecationWarning)"
   ]
  },
  {
   "cell_type": "code",
   "execution_count": 3,
   "metadata": {
    "code_folding": []
   },
   "outputs": [
    {
     "data": {
      "text/html": [
       "<i>Table length=8</i>\n",
       "<table id=\"table23026665135352\" class=\"table-striped table-bordered table-condensed\">\n",
       "<thead><tr><th>T_REC</th><th>TELESCOP</th><th>INSTRUME</th><th>WAVELNTH</th><th>CAR_ROT</th></tr></thead>\n",
       "<thead><tr><th>str20</th><th>str7</th><th>str5</th><th>int64</th><th>int64</th></tr></thead>\n",
       "<tr><td>2014-10-26T10:00:01Z</td><td>SDO/AIA</td><td>AIA_2</td><td>193</td><td>2156</td></tr>\n",
       "<tr><td>2014-10-26T10:10:01Z</td><td>SDO/AIA</td><td>AIA_2</td><td>193</td><td>2156</td></tr>\n",
       "<tr><td>2014-10-26T10:20:01Z</td><td>SDO/AIA</td><td>AIA_2</td><td>193</td><td>2156</td></tr>\n",
       "<tr><td>2014-10-26T10:30:01Z</td><td>SDO/AIA</td><td>AIA_2</td><td>193</td><td>2156</td></tr>\n",
       "<tr><td>2014-10-26T10:00:01Z</td><td>SDO/AIA</td><td>AIA_4</td><td>304</td><td>2156</td></tr>\n",
       "<tr><td>2014-10-26T10:10:01Z</td><td>SDO/AIA</td><td>AIA_4</td><td>304</td><td>2156</td></tr>\n",
       "<tr><td>2014-10-26T10:20:01Z</td><td>SDO/AIA</td><td>AIA_4</td><td>304</td><td>2156</td></tr>\n",
       "<tr><td>2014-10-26T10:30:01Z</td><td>SDO/AIA</td><td>AIA_4</td><td>304</td><td>2156</td></tr>\n",
       "</table>"
      ],
      "text/plain": [
       "<Table length=8>\n",
       "       T_REC         TELESCOP INSTRUME WAVELNTH CAR_ROT\n",
       "       str20           str7     str5    int64    int64 \n",
       "-------------------- -------- -------- -------- -------\n",
       "2014-10-26T10:00:01Z  SDO/AIA    AIA_2      193    2156\n",
       "2014-10-26T10:10:01Z  SDO/AIA    AIA_2      193    2156\n",
       "2014-10-26T10:20:01Z  SDO/AIA    AIA_2      193    2156\n",
       "2014-10-26T10:30:01Z  SDO/AIA    AIA_2      193    2156\n",
       "2014-10-26T10:00:01Z  SDO/AIA    AIA_4      304    2156\n",
       "2014-10-26T10:10:01Z  SDO/AIA    AIA_4      304    2156\n",
       "2014-10-26T10:20:01Z  SDO/AIA    AIA_4      304    2156\n",
       "2014-10-26T10:30:01Z  SDO/AIA    AIA_4      304    2156"
      ]
     },
     "execution_count": 3,
     "metadata": {},
     "output_type": "execute_result"
    }
   ],
   "source": [
    "# JSOC string: \"aia.lev1_euv_12s[2014-10-26T10:00:00Z-2014-10-26T11:00:00Z@1m][193,304]{image}\"\n",
    "client = jsoc.JSOCClient()\n",
    "response = client.search(\n",
    "    attrs.jsoc.Time('2014-10-26T10:00:00', '2014-10-26T10:30:00'),\n",
    "    attrs.jsoc.Notify('xxx@xxx'),  # email\n",
    "    attrs.jsoc.Series('aia.lev1_euv_12s'),\n",
    "    attrs.jsoc.Segment('image'),\n",
    "    attrs.Sample(10. * u.min),  # interval\n",
    "    attrs.jsoc.Wavelength(193 * u.AA) | attrs.jsoc.Wavelength(304 * u.AA)\n",
    ")\n",
    "\n",
    "response"
   ]
  },
  {
   "cell_type": "code",
   "execution_count": null,
   "metadata": {},
   "outputs": [],
   "source": [
    "requests = client.request_data(response)"
   ]
  },
  {
   "cell_type": "code",
   "execution_count": null,
   "metadata": {
    "scrolled": true
   },
   "outputs": [],
   "source": [
    "requests[0].id"
   ]
  },
  {
   "cell_type": "code",
   "execution_count": null,
   "metadata": {},
   "outputs": [],
   "source": [
    "requests[0].status"
   ]
  },
  {
   "cell_type": "markdown",
   "metadata": {},
   "source": [
    "如官网所述, 只有为'1'时才可以下载, 但有时还是'2'时也可以下(可能是状态有延迟?).\n",
    "\n",
    "总之如果发现下面的语句不能执行, 请再等一会再试."
   ]
  },
  {
   "cell_type": "code",
   "execution_count": null,
   "metadata": {
    "scrolled": true
   },
   "outputs": [],
   "source": [
    "res = client.get_request(requests, path='./data', overwrite=True)"
   ]
  },
  {
   "cell_type": "markdown",
   "metadata": {},
   "source": [
    "`overwrite` 默认为 False, 即跳过已存在的文件(即使该文件数据不全, 因此建议设为 True)"
   ]
  },
  {
   "cell_type": "code",
   "execution_count": null,
   "metadata": {
    "scrolled": false
   },
   "outputs": [],
   "source": [
    "res.wait() "
   ]
  },
  {
   "cell_type": "markdown",
   "metadata": {},
   "source": [
    "`.wait()` 将显示进度条, 结束后显示已下载的文件名. 如中途显示网络出错或中断这个语句, 再次执行该语句即可(下载过程不受影响).\n",
    "\n",
    "如果发现该 `.wait()` 卡死不动, 可以先结束该语句<br>\n",
    "(Jupyter 中的操作: 按 `Esc` 或点击页面空白处保证该 Cell 为命令模式而非编辑模式, 即左侧的竖条为蓝色, 然后按两次 `I` 即中断该Cell).<br>\n",
    "随后执行下面语句, 然后再回去执行 `.wait()` 看是否恢复."
   ]
  },
  {
   "cell_type": "code",
   "execution_count": null,
   "metadata": {},
   "outputs": [],
   "source": [
    "res.poke()"
   ]
  }
 ],
 "metadata": {
  "hide_input": false,
  "kernelspec": {
   "display_name": "Python 3",
   "language": "python",
   "name": "python3"
  },
  "language_info": {
   "codemirror_mode": {
    "name": "ipython",
    "version": 3
   },
   "file_extension": ".py",
   "mimetype": "text/x-python",
   "name": "python",
   "nbconvert_exporter": "python",
   "pygments_lexer": "ipython3",
   "version": "3.6.5"
  },
  "toc": {
   "base_numbering": 1,
   "nav_menu": {},
   "number_sections": true,
   "sideBar": true,
   "skip_h1_title": true,
   "title_cell": "Table of Contents",
   "title_sidebar": "Contents",
   "toc_cell": false,
   "toc_position": {},
   "toc_section_display": true,
   "toc_window_display": false
  },
  "varInspector": {
   "cols": {
    "lenName": 16,
    "lenType": 16,
    "lenVar": 40
   },
   "kernels_config": {
    "python": {
     "delete_cmd_postfix": "",
     "delete_cmd_prefix": "del ",
     "library": "var_list.py",
     "varRefreshCmd": "print(var_dic_list())"
    },
    "r": {
     "delete_cmd_postfix": ") ",
     "delete_cmd_prefix": "rm(",
     "library": "var_list.r",
     "varRefreshCmd": "cat(var_dic_list()) "
    }
   },
   "types_to_exclude": [
    "module",
    "function",
    "builtin_function_or_method",
    "instance",
    "_Feature"
   ],
   "window_display": false
  }
 },
 "nbformat": 4,
 "nbformat_minor": 2
}
